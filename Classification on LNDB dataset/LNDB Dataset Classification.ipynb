{
 "cells": [
  {
   "cell_type": "code",
   "execution_count": 1,
   "id": "2367de37",
   "metadata": {},
   "outputs": [],
   "source": [
    "import SimpleITK as sitk\n",
    "import numpy as np\n",
    "import pandas\n",
    "import os\n",
    "import glob\n",
    "import tensorflow as tf\n",
    "import gc\n",
    "from tensorflow import keras\n",
    "from tensorflow.keras import layers\n",
    "import random\n",
    "from scipy import ndimage\n",
    "import matplotlib.pyplot as plt\n",
    "from skimage import color\n",
    "from numpy import newaxis\n",
    "import csv\n",
    "import sys\n",
    "from scipy.ndimage import zoom\n",
    "from keras.models import Sequential\n",
    "from tensorflow.keras.optimizers import Adam, SGD\n",
    "from keras.preprocessing.image import ImageDataGenerator\n",
    "from tensorflow.keras import Model\n",
    "from keras.layers import *\n",
    "import cv2\n",
    "from keras.preprocessing import image\n",
    "import pickle\n"
   ]
  },
  {
   "cell_type": "code",
   "execution_count": 2,
   "id": "28381203",
   "metadata": {},
   "outputs": [],
   "source": [
    "pickle_in = open(\"X-randomcrop.pickle\", \"rb\")\n",
    "X = pickle.load(pickle_in)\n",
    "pickle_in = open(\"y-randomcrop.pickle\", \"rb\")\n",
    "y = pickle.load(pickle_in)\n",
    "# pickle_in = open(\"data.pickle\", \"rb\")\n",
    "# data = pickle.load(pickle_in)"
   ]
  },
  {
   "cell_type": "code",
   "execution_count": 3,
   "id": "bf48516b",
   "metadata": {},
   "outputs": [
    {
     "name": "stdout",
     "output_type": "stream",
     "text": [
      "(423, 64, 64)\n",
      "(423,)\n"
     ]
    }
   ],
   "source": [
    "X = np.asarray(X)\n",
    "y = np.asarray(y)\n",
    "X = X.reshape(-1, 64, 64)\n",
    "print(X.shape)\n",
    "print(y.shape)"
   ]
  },
  {
   "cell_type": "code",
   "execution_count": 4,
   "id": "a82a79b4",
   "metadata": {},
   "outputs": [
    {
     "data": {
      "text/plain": [
       "array([[[-1025,  -969,  -800, ...,  -944,  -822,  -915],\n",
       "        [ -967,  -952,  -996, ...,  -880,  -920, -1021],\n",
       "        [ -910,  -976,  -958, ...,  -980,  -926,  -922],\n",
       "        ...,\n",
       "        [ -937,  -899,  -963, ...,  -912,  -950,  -896],\n",
       "        [ -920,  -899,  -965, ...,  -989,  -823,  -864],\n",
       "        [-1026,  -986,  -904, ...,  -980,  -957,  -917]],\n",
       "\n",
       "       [[ -710,  -951,  -901, ...,  -668,   -75,    63],\n",
       "        [ -716, -1044,  -971, ...,  -750,  -173,   137],\n",
       "        [ -960,  -984,  -650, ...,  -843,  -271,   -50],\n",
       "        ...,\n",
       "        [ -976,  -820,  -871, ...,   -45,    10,    26],\n",
       "        [ -821,  -872,  -819, ...,     7,  -125,   -50],\n",
       "        [ -878,  -825,  -830, ...,   -50,   -50,    79]],\n",
       "\n",
       "       [[  385,   368,   371, ...,  -668,  -858,  -807],\n",
       "        [  481,   439,   253, ...,  -711,  -784,  -943],\n",
       "        [   90,   248,   -72, ...,  -826,  -900,  -748],\n",
       "        ...,\n",
       "        [  255,   167,   118, ...,  -844,  -904, -1001],\n",
       "        [  131,   185,   155, ...,  -848,  -808,  -758],\n",
       "        [  -21,  -133,   107, ...,  -890,  -981,  -799]],\n",
       "\n",
       "       ...,\n",
       "\n",
       "       [[  115,    88,   111, ...,    77,   -10,   -77],\n",
       "        [   13,    53,    82, ...,     3,   -34,    21],\n",
       "        [   79,   165,   119, ...,   -50,   -65,    46],\n",
       "        ...,\n",
       "        [   69,    41,    42, ...,   113,    75,   -27],\n",
       "        [   61,    40,    92, ...,    85,    85,    87],\n",
       "        [  -12,     8,    35, ...,    43,    20,   -14]],\n",
       "\n",
       "       [[ -242,   -15,  -152, ...,   -29,    16,   -94],\n",
       "        [ -121,    19,    29, ...,   -60,   -69,   -57],\n",
       "        [  -61,  -173,   -35, ...,   -82,  -100,  -121],\n",
       "        ...,\n",
       "        [  155,    87,    38, ...,  -114,  -106,    10],\n",
       "        [  -29,    72,    94, ...,   127,   131,   -40],\n",
       "        [   10,  -153,  -103, ...,    78,   103,  -122]],\n",
       "\n",
       "       [[  110,   -49,   -90, ...,   275,    99,   129],\n",
       "        [  130,   185,   217, ...,   153,    -6,    30],\n",
       "        [  -67,   -12,   113, ...,   131,    86,   132],\n",
       "        ...,\n",
       "        [   79,    40,    34, ...,    93,    27,    24],\n",
       "        [  -60,    74,   100, ...,    37,    44,    45],\n",
       "        [  -28,    -5,   183, ...,    73,   -11,   -46]]])"
      ]
     },
     "execution_count": 4,
     "metadata": {},
     "output_type": "execute_result"
    }
   ],
   "source": [
    "X"
   ]
  },
  {
   "cell_type": "code",
   "execution_count": 5,
   "id": "ce89cbc8",
   "metadata": {},
   "outputs": [
    {
     "name": "stdout",
     "output_type": "stream",
     "text": [
      "Type of X: <class 'numpy.ndarray'>\n",
      "Type of y: <class 'numpy.ndarray'>\n"
     ]
    }
   ],
   "source": [
    "print('Type of X:', type(X))\n",
    "print('Type of y:', type(y))\n"
   ]
  },
  {
   "cell_type": "code",
   "execution_count": 6,
   "id": "2cc005a0",
   "metadata": {},
   "outputs": [
    {
     "name": "stderr",
     "output_type": "stream",
     "text": [
      "<ipython-input-6-a45c564a4914>:7: MatplotlibDeprecationWarning: Passing non-integers as three-element position specification is deprecated since 3.3 and will be removed two minor releases later.\n",
      "  plt.subplot(5 / columns + 1, columns, i + 1)\n"
     ]
    },
    {
     "data": {
      "image/png": "[encoded data removed]",
      "text/plain": [
       "<Figure size 1440x720 with 5 Axes>"
      ]
     },
     "metadata": {
      "needs_background": "light"
     },
     "output_type": "display_data"
    }
   ],
   "source": [
    "import matplotlib.pyplot as plt # to plot inage, graph\n",
    "%matplotlib inline\n",
    "\n",
    "plt.figure(figsize=(20,10))\n",
    "columns = 5\n",
    "for i in range(5):\n",
    "    plt.subplot(5 / columns + 1, columns, i + 1)\n",
    "    plt.imshow(X[i],interpolation='nearest')"
   ]
  },
  {
   "cell_type": "code",
   "execution_count": 7,
   "id": "d61ddd1e",
   "metadata": {},
   "outputs": [
    {
     "data": {
      "text/plain": [
       "array([1, 1, 1, 1, 1, 1, 1, 1, 1, 1, 1, 1, 1, 1, 0, 1, 1, 1, 1, 1, 1, 1,\n",
       "       1, 1, 1, 1, 1, 1, 1, 1, 1, 1, 1, 1, 1, 1, 1, 1, 1, 1, 1, 1, 1, 1,\n",
       "       1, 1, 1, 1, 1, 1, 1, 1, 1, 1, 1, 1, 1, 1, 1, 1, 1, 1, 1, 1, 1, 1,\n",
       "       1, 1, 1, 1, 1, 1, 1, 1, 1, 1, 1, 1, 1, 1, 1, 1, 1, 1, 1, 1, 1, 1,\n",
       "       1, 1, 1, 1, 1, 1, 0, 1, 1, 1, 0, 1, 1, 0, 0, 0, 1, 0, 1, 1, 1, 0,\n",
       "       0, 1, 0, 0, 1, 1, 1, 0, 1, 1, 1, 1, 1, 0, 1, 1, 1, 1, 1, 1, 1, 1,\n",
       "       1, 1, 1, 0, 1, 1, 0, 1, 1, 1, 1, 1, 1, 0, 1, 1, 1, 0, 1, 1, 1, 1,\n",
       "       0, 1, 0, 1, 1, 1, 1, 1, 1, 0, 1, 1, 1, 1, 1, 1, 1, 1, 0, 0, 1, 1,\n",
       "       1, 1, 1, 1, 1, 1, 1, 1, 1, 0, 1, 1, 1, 1, 1, 1, 1, 1, 1, 1, 1, 1,\n",
       "       1, 1, 0, 1, 1, 1, 1, 1, 1, 1, 0, 1, 1, 1, 1, 1, 1, 1, 1, 1, 1, 1,\n",
       "       1, 0, 1, 1, 1, 1, 0, 1, 0, 0, 0, 0, 0, 0, 0, 0, 0, 0, 0, 0, 0, 0,\n",
       "       0, 0, 0, 0, 0, 0, 0, 0, 0, 0, 0, 0, 0, 0, 0, 0, 0, 0, 0, 0, 0, 0,\n",
       "       0, 0, 0, 0, 0, 0, 0, 0, 0, 0, 0, 0, 0, 0, 0, 0, 0, 0, 0, 0, 0, 0,\n",
       "       0, 0, 0, 0, 0, 0, 0, 0, 0, 0, 0, 0, 0, 0, 0, 0, 0, 0, 0, 0, 0, 0,\n",
       "       0, 0, 0, 0, 0, 0, 0, 0, 0, 0, 0, 0, 0, 0, 0, 0, 0, 0, 0, 0, 0, 0,\n",
       "       0, 0, 0, 0, 0, 0, 0, 0, 0, 0, 0, 0, 0, 0, 0, 0, 0, 0, 0, 0, 0, 0,\n",
       "       0, 0, 0, 0, 0, 0, 0, 0, 0, 0, 0, 0, 0, 0, 0, 0, 0, 0, 0, 0, 0, 0,\n",
       "       0, 0, 0, 0, 0, 0, 0, 0, 0, 0, 0, 0, 0, 0, 0, 0, 0, 0, 0, 0, 0, 0,\n",
       "       0, 0, 0, 0, 0, 0, 0, 0, 0, 0, 0, 0, 0, 0, 0, 0, 0, 0, 0, 0, 0, 0,\n",
       "       0, 0, 0, 0, 0])"
      ]
     },
     "execution_count": 7,
     "metadata": {},
     "output_type": "execute_result"
    }
   ],
   "source": [
    "y"
   ]
  },
  {
   "cell_type": "code",
   "execution_count": 8,
   "id": "6f39094c",
   "metadata": {},
   "outputs": [
    {
     "data": {
      "text/plain": [
       "(64, 64)"
      ]
     },
     "execution_count": 8,
     "metadata": {},
     "output_type": "execute_result"
    }
   ],
   "source": [
    "X[0].shape"
   ]
  },
  {
   "cell_type": "code",
   "execution_count": 9,
   "id": "b19b6dab",
   "metadata": {},
   "outputs": [
    {
     "data": {
      "text/plain": [
       "423"
      ]
     },
     "execution_count": 9,
     "metadata": {},
     "output_type": "execute_result"
    }
   ],
   "source": [
    "len(X)"
   ]
  },
  {
   "cell_type": "code",
   "execution_count": 10,
   "id": "68372e92",
   "metadata": {},
   "outputs": [
    {
     "name": "stdout",
     "output_type": "stream",
     "text": [
      "# of Samples: 423\n",
      "# of Non-Nodule: 222\n",
      "# of Nodule: 201\n"
     ]
    }
   ],
   "source": [
    "print('# of Samples:', len(y))\n",
    "sum1=0\n",
    "sum2=0\n",
    "for i in range(len(y)):\n",
    "    if(y[i]==0):\n",
    "        sum1=sum1+1\n",
    "    else:\n",
    "        sum2=sum2+1\n",
    "print('# of Non-Nodule:', sum1)\n",
    "print('# of Nodule:', sum2)"
   ]
  },
  {
   "cell_type": "code",
   "execution_count": 11,
   "id": "fd5eed9e",
   "metadata": {},
   "outputs": [],
   "source": [
    "resized_X = []\n",
    "for img in X:\n",
    "    resized_X.append(cv2.resize(img, (64, 64)))"
   ]
  },
  {
   "cell_type": "code",
   "execution_count": 12,
   "id": "f6c7d788",
   "metadata": {},
   "outputs": [
    {
     "name": "stdout",
     "output_type": "stream",
     "text": [
      "(423, 64, 64, 1)\n"
     ]
    }
   ],
   "source": [
    "X = np.asarray(X)\n",
    "X = X.reshape(-1, 64, 64, 1)\n",
    "print(X.shape)"
   ]
  },
  {
   "cell_type": "code",
   "execution_count": 13,
   "id": "4d3d7e09",
   "metadata": {},
   "outputs": [
    {
     "data": {
      "text/plain": [
       "array([[[[-1025],\n",
       "         [ -969],\n",
       "         [ -800],\n",
       "         ...,\n",
       "         [ -944],\n",
       "         [ -822],\n",
       "         [ -915]],\n",
       "\n",
       "        [[ -967],\n",
       "         [ -952],\n",
       "         [ -996],\n",
       "         ...,\n",
       "         [ -880],\n",
       "         [ -920],\n",
       "         [-1021]],\n",
       "\n",
       "        [[ -910],\n",
       "         [ -976],\n",
       "         [ -958],\n",
       "         ...,\n",
       "         [ -980],\n",
       "         [ -926],\n",
       "         [ -922]],\n",
       "\n",
       "        ...,\n",
       "\n",
       "        [[ -937],\n",
       "         [ -899],\n",
       "         [ -963],\n",
       "         ...,\n",
       "         [ -912],\n",
       "         [ -950],\n",
       "         [ -896]],\n",
       "\n",
       "        [[ -920],\n",
       "         [ -899],\n",
       "         [ -965],\n",
       "         ...,\n",
       "         [ -989],\n",
       "         [ -823],\n",
       "         [ -864]],\n",
       "\n",
       "        [[-1026],\n",
       "         [ -986],\n",
       "         [ -904],\n",
       "         ...,\n",
       "         [ -980],\n",
       "         [ -957],\n",
       "         [ -917]]],\n",
       "\n",
       "\n",
       "       [[[ -710],\n",
       "         [ -951],\n",
       "         [ -901],\n",
       "         ...,\n",
       "         [ -668],\n",
       "         [  -75],\n",
       "         [   63]],\n",
       "\n",
       "        [[ -716],\n",
       "         [-1044],\n",
       "         [ -971],\n",
       "         ...,\n",
       "         [ -750],\n",
       "         [ -173],\n",
       "         [  137]],\n",
       "\n",
       "        [[ -960],\n",
       "         [ -984],\n",
       "         [ -650],\n",
       "         ...,\n",
       "         [ -843],\n",
       "         [ -271],\n",
       "         [  -50]],\n",
       "\n",
       "        ...,\n",
       "\n",
       "        [[ -976],\n",
       "         [ -820],\n",
       "         [ -871],\n",
       "         ...,\n",
       "         [  -45],\n",
       "         [   10],\n",
       "         [   26]],\n",
       "\n",
       "        [[ -821],\n",
       "         [ -872],\n",
       "         [ -819],\n",
       "         ...,\n",
       "         [    7],\n",
       "         [ -125],\n",
       "         [  -50]],\n",
       "\n",
       "        [[ -878],\n",
       "         [ -825],\n",
       "         [ -830],\n",
       "         ...,\n",
       "         [  -50],\n",
       "         [  -50],\n",
       "         [   79]]],\n",
       "\n",
       "\n",
       "       [[[  385],\n",
       "         [  368],\n",
       "         [  371],\n",
       "         ...,\n",
       "         [ -668],\n",
       "         [ -858],\n",
       "         [ -807]],\n",
       "\n",
       "        [[  481],\n",
       "         [  439],\n",
       "         [  253],\n",
       "         ...,\n",
       "         [ -711],\n",
       "         [ -784],\n",
       "         [ -943]],\n",
       "\n",
       "        [[   90],\n",
       "         [  248],\n",
       "         [  -72],\n",
       "         ...,\n",
       "         [ -826],\n",
       "         [ -900],\n",
       "         [ -748]],\n",
       "\n",
       "        ...,\n",
       "\n",
       "        [[  255],\n",
       "         [  167],\n",
       "         [  118],\n",
       "         ...,\n",
       "         [ -844],\n",
       "         [ -904],\n",
       "         [-1001]],\n",
       "\n",
       "        [[  131],\n",
       "         [  185],\n",
       "         [  155],\n",
       "         ...,\n",
       "         [ -848],\n",
       "         [ -808],\n",
       "         [ -758]],\n",
       "\n",
       "        [[  -21],\n",
       "         [ -133],\n",
       "         [  107],\n",
       "         ...,\n",
       "         [ -890],\n",
       "         [ -981],\n",
       "         [ -799]]],\n",
       "\n",
       "\n",
       "       ...,\n",
       "\n",
       "\n",
       "       [[[  115],\n",
       "         [   88],\n",
       "         [  111],\n",
       "         ...,\n",
       "         [   77],\n",
       "         [  -10],\n",
       "         [  -77]],\n",
       "\n",
       "        [[   13],\n",
       "         [   53],\n",
       "         [   82],\n",
       "         ...,\n",
       "         [    3],\n",
       "         [  -34],\n",
       "         [   21]],\n",
       "\n",
       "        [[   79],\n",
       "         [  165],\n",
       "         [  119],\n",
       "         ...,\n",
       "         [  -50],\n",
       "         [  -65],\n",
       "         [   46]],\n",
       "\n",
       "        ...,\n",
       "\n",
       "        [[   69],\n",
       "         [   41],\n",
       "         [   42],\n",
       "         ...,\n",
       "         [  113],\n",
       "         [   75],\n",
       "         [  -27]],\n",
       "\n",
       "        [[   61],\n",
       "         [   40],\n",
       "         [   92],\n",
       "         ...,\n",
       "         [   85],\n",
       "         [   85],\n",
       "         [   87]],\n",
       "\n",
       "        [[  -12],\n",
       "         [    8],\n",
       "         [   35],\n",
       "         ...,\n",
       "         [   43],\n",
       "         [   20],\n",
       "         [  -14]]],\n",
       "\n",
       "\n",
       "       [[[ -242],\n",
       "         [  -15],\n",
       "         [ -152],\n",
       "         ...,\n",
       "         [  -29],\n",
       "         [   16],\n",
       "         [  -94]],\n",
       "\n",
       "        [[ -121],\n",
       "         [   19],\n",
       "         [   29],\n",
       "         ...,\n",
       "         [  -60],\n",
       "         [  -69],\n",
       "         [  -57]],\n",
       "\n",
       "        [[  -61],\n",
       "         [ -173],\n",
       "         [  -35],\n",
       "         ...,\n",
       "         [  -82],\n",
       "         [ -100],\n",
       "         [ -121]],\n",
       "\n",
       "        ...,\n",
       "\n",
       "        [[  155],\n",
       "         [   87],\n",
       "         [   38],\n",
       "         ...,\n",
       "         [ -114],\n",
       "         [ -106],\n",
       "         [   10]],\n",
       "\n",
       "        [[  -29],\n",
       "         [   72],\n",
       "         [   94],\n",
       "         ...,\n",
       "         [  127],\n",
       "         [  131],\n",
       "         [  -40]],\n",
       "\n",
       "        [[   10],\n",
       "         [ -153],\n",
       "         [ -103],\n",
       "         ...,\n",
       "         [   78],\n",
       "         [  103],\n",
       "         [ -122]]],\n",
       "\n",
       "\n",
       "       [[[  110],\n",
       "         [  -49],\n",
       "         [  -90],\n",
       "         ...,\n",
       "         [  275],\n",
       "         [   99],\n",
       "         [  129]],\n",
       "\n",
       "        [[  130],\n",
       "         [  185],\n",
       "         [  217],\n",
       "         ...,\n",
       "         [  153],\n",
       "         [   -6],\n",
       "         [   30]],\n",
       "\n",
       "        [[  -67],\n",
       "         [  -12],\n",
       "         [  113],\n",
       "         ...,\n",
       "         [  131],\n",
       "         [   86],\n",
       "         [  132]],\n",
       "\n",
       "        ...,\n",
       "\n",
       "        [[   79],\n",
       "         [   40],\n",
       "         [   34],\n",
       "         ...,\n",
       "         [   93],\n",
       "         [   27],\n",
       "         [   24]],\n",
       "\n",
       "        [[  -60],\n",
       "         [   74],\n",
       "         [  100],\n",
       "         ...,\n",
       "         [   37],\n",
       "         [   44],\n",
       "         [   45]],\n",
       "\n",
       "        [[  -28],\n",
       "         [   -5],\n",
       "         [  183],\n",
       "         ...,\n",
       "         [   73],\n",
       "         [  -11],\n",
       "         [  -46]]]])"
      ]
     },
     "execution_count": 13,
     "metadata": {},
     "output_type": "execute_result"
    }
   ],
   "source": [
    "X"
   ]
  },
  {
   "cell_type": "code",
   "execution_count": 14,
   "id": "b61b8c48",
   "metadata": {},
   "outputs": [],
   "source": [
    "# normalize the pixel values\n",
    "X = X / 255.0"
   ]
  },
  {
   "cell_type": "code",
   "execution_count": 15,
   "id": "f0ab1767",
   "metadata": {},
   "outputs": [
    {
     "name": "stdout",
     "output_type": "stream",
     "text": [
      "IMG_DIM: 64\n"
     ]
    }
   ],
   "source": [
    "IMG_DIM = X.shape[1]\n",
    "print('IMG_DIM:',IMG_DIM)"
   ]
  },
  {
   "cell_type": "code",
   "execution_count": 16,
   "id": "6a8ffaa2",
   "metadata": {},
   "outputs": [],
   "source": [
    "from sklearn.model_selection import train_test_split\n",
    "\n",
    "# Split dataset into Training and Testing\n",
    "X_train, X_test, y_train, y_test = train_test_split(X, y,stratify=y, test_size=0.2, random_state=0, shuffle=True)"
   ]
  },
  {
   "cell_type": "code",
   "execution_count": 17,
   "id": "df4644ae",
   "metadata": {},
   "outputs": [
    {
     "data": {
      "text/plain": [
       "array([[[[-3.98431373e+00],\n",
       "         [-3.79607843e+00],\n",
       "         [-3.09803922e+00],\n",
       "         ...,\n",
       "         [-6.58823529e-01],\n",
       "         [-6.31372549e-01],\n",
       "         [-7.84313725e-03]],\n",
       "\n",
       "        [[-3.52156863e+00],\n",
       "         [-3.65490196e+00],\n",
       "         [-3.67450980e+00],\n",
       "         ...,\n",
       "         [ 1.49019608e-01],\n",
       "         [ 7.45098039e-02],\n",
       "         [ 7.45098039e-02]],\n",
       "\n",
       "        [[-3.38039216e+00],\n",
       "         [-3.64705882e+00],\n",
       "         [-3.80000000e+00],\n",
       "         ...,\n",
       "         [ 2.00000000e-01],\n",
       "         [-7.84313725e-03],\n",
       "         [-2.98039216e-01]],\n",
       "\n",
       "        ...,\n",
       "\n",
       "        [[-3.26666667e+00],\n",
       "         [-2.70196078e+00],\n",
       "         [-2.78431373e+00],\n",
       "         ...,\n",
       "         [ 2.43137255e-01],\n",
       "         [-5.56862745e-01],\n",
       "         [-4.11764706e-01]],\n",
       "\n",
       "        [[-3.67843137e+00],\n",
       "         [-3.80784314e+00],\n",
       "         [-3.55686275e+00],\n",
       "         ...,\n",
       "         [ 2.94117647e-01],\n",
       "         [-8.62745098e-02],\n",
       "         [-1.49019608e-01]],\n",
       "\n",
       "        [[-3.50196078e+00],\n",
       "         [-3.10980392e+00],\n",
       "         [-2.94117647e+00],\n",
       "         ...,\n",
       "         [ 2.86274510e-01],\n",
       "         [ 1.80392157e-01],\n",
       "         [-1.64705882e-01]]],\n",
       "\n",
       "\n",
       "       [[[-3.28627451e+00],\n",
       "         [-3.30980392e+00],\n",
       "         [-3.09019608e+00],\n",
       "         ...,\n",
       "         [-3.63137255e+00],\n",
       "         [-3.98039216e+00],\n",
       "         [-3.39215686e+00]],\n",
       "\n",
       "        [[-3.87843137e+00],\n",
       "         [-3.58431373e+00],\n",
       "         [-3.25882353e+00],\n",
       "         ...,\n",
       "         [-3.06666667e+00],\n",
       "         [-3.48627451e+00],\n",
       "         [-3.62352941e+00]],\n",
       "\n",
       "        [[-3.36862745e+00],\n",
       "         [-3.67058824e+00],\n",
       "         [-3.96470588e+00],\n",
       "         ...,\n",
       "         [-3.28235294e+00],\n",
       "         [-3.30588235e+00],\n",
       "         [-3.43137255e+00]],\n",
       "\n",
       "        ...,\n",
       "\n",
       "        [[-1.92156863e-01],\n",
       "         [ 2.31372549e-01],\n",
       "         [ 5.25490196e-01],\n",
       "         ...,\n",
       "         [ 2.74509804e-01],\n",
       "         [ 2.86274510e-01],\n",
       "         [-1.68627451e-01]],\n",
       "\n",
       "        [[ 4.86274510e-01],\n",
       "         [ 4.35294118e-01],\n",
       "         [ 8.62745098e-02],\n",
       "         ...,\n",
       "         [ 4.66666667e-01],\n",
       "         [ 1.37254902e-01],\n",
       "         [-3.92156863e-02]],\n",
       "\n",
       "        [[ 4.78431373e-01],\n",
       "         [ 6.78431373e-01],\n",
       "         [ 4.31372549e-02],\n",
       "         ...,\n",
       "         [ 1.29411765e-01],\n",
       "         [-8.07843137e-01],\n",
       "         [-2.31372549e-01]]],\n",
       "\n",
       "\n",
       "       [[[ 1.59607843e+00],\n",
       "         [-1.12941176e+00],\n",
       "         [-2.31764706e+00],\n",
       "         ...,\n",
       "         [ 4.11764706e-01],\n",
       "         [-1.56862745e-02],\n",
       "         [-3.92156863e-03]],\n",
       "\n",
       "        [[ 1.94509804e+00],\n",
       "         [ 1.88235294e-01],\n",
       "         [-3.21568627e-01],\n",
       "         ...,\n",
       "         [ 2.19607843e-01],\n",
       "         [ 3.68627451e-01],\n",
       "         [ 7.29411765e-01]],\n",
       "\n",
       "        [[ 2.35686275e+00],\n",
       "         [ 5.60784314e-01],\n",
       "         [-4.70588235e-02],\n",
       "         ...,\n",
       "         [-3.84313725e-01],\n",
       "         [ 7.45098039e-02],\n",
       "         [ 0.00000000e+00]],\n",
       "\n",
       "        ...,\n",
       "\n",
       "        [[-3.45882353e+00],\n",
       "         [-3.50980392e+00],\n",
       "         [-3.70196078e+00],\n",
       "         ...,\n",
       "         [ 7.25490196e-01],\n",
       "         [ 7.68627451e-01],\n",
       "         [-2.35294118e-02]],\n",
       "\n",
       "        [[-3.89411765e+00],\n",
       "         [-4.09411765e+00],\n",
       "         [-4.05882353e+00],\n",
       "         ...,\n",
       "         [-5.37254902e-01],\n",
       "         [-9.72549020e-01],\n",
       "         [-4.07843137e-01]],\n",
       "\n",
       "        [[-3.85490196e+00],\n",
       "         [-3.30196078e+00],\n",
       "         [-3.09411765e+00],\n",
       "         ...,\n",
       "         [-4.94117647e-01],\n",
       "         [-2.98039216e-01],\n",
       "         [ 1.56862745e-02]]],\n",
       "\n",
       "\n",
       "       ...,\n",
       "\n",
       "\n",
       "       [[[ 3.92156863e-03],\n",
       "         [ 7.52941176e-01],\n",
       "         [ 2.94117647e+00],\n",
       "         ...,\n",
       "         [-3.02352941e+00],\n",
       "         [-3.31372549e+00],\n",
       "         [-3.00392157e+00]],\n",
       "\n",
       "        [[-1.80392157e-01],\n",
       "         [ 5.01960784e-01],\n",
       "         [ 3.39607843e+00],\n",
       "         ...,\n",
       "         [-2.92156863e+00],\n",
       "         [-2.69019608e+00],\n",
       "         [-3.32549020e+00]],\n",
       "\n",
       "        [[ 5.88235294e-02],\n",
       "         [ 1.56862745e-02],\n",
       "         [ 3.15294118e+00],\n",
       "         ...,\n",
       "         [-3.70196078e+00],\n",
       "         [-3.44313725e+00],\n",
       "         [-3.66666667e+00]],\n",
       "\n",
       "        ...,\n",
       "\n",
       "        [[ 3.92156863e-03],\n",
       "         [-9.41176471e-02],\n",
       "         [-7.72549020e-01],\n",
       "         ...,\n",
       "         [-2.91764706e+00],\n",
       "         [-3.19607843e+00],\n",
       "         [-2.58039216e+00]],\n",
       "\n",
       "        [[-3.72549020e-01],\n",
       "         [-4.07843137e-01],\n",
       "         [-1.60784314e-01],\n",
       "         ...,\n",
       "         [-3.35686275e+00],\n",
       "         [-2.38431373e+00],\n",
       "         [-2.64705882e+00]],\n",
       "\n",
       "        [[ 1.68627451e+00],\n",
       "         [ 6.43137255e-01],\n",
       "         [-2.78431373e-01],\n",
       "         ...,\n",
       "         [-2.90196078e+00],\n",
       "         [-3.38823529e+00],\n",
       "         [-3.35686275e+00]]],\n",
       "\n",
       "\n",
       "       [[[-4.98039216e-01],\n",
       "         [-2.78431373e-01],\n",
       "         [-3.92156863e-03],\n",
       "         ...,\n",
       "         [-2.62745098e+00],\n",
       "         [-2.67058824e+00],\n",
       "         [-2.56862745e+00]],\n",
       "\n",
       "        [[-3.52941176e-02],\n",
       "         [ 2.74509804e-02],\n",
       "         [ 1.60784314e-01],\n",
       "         ...,\n",
       "         [-2.42352941e+00],\n",
       "         [-2.53725490e+00],\n",
       "         [-2.30196078e+00]],\n",
       "\n",
       "        [[ 2.43137255e-01],\n",
       "         [ 2.15686275e-01],\n",
       "         [ 1.60784314e-01],\n",
       "         ...,\n",
       "         [-2.82352941e+00],\n",
       "         [-2.82352941e+00],\n",
       "         [-2.31372549e+00]],\n",
       "\n",
       "        ...,\n",
       "\n",
       "        [[ 3.25490196e-01],\n",
       "         [ 2.90196078e-01],\n",
       "         [ 2.23529412e-01],\n",
       "         ...,\n",
       "         [ 3.09803922e-01],\n",
       "         [ 3.60784314e-01],\n",
       "         [ 2.90196078e-01]],\n",
       "\n",
       "        [[ 2.70588235e-01],\n",
       "         [ 1.56862745e-01],\n",
       "         [ 2.70588235e-01],\n",
       "         ...,\n",
       "         [ 2.82352941e-01],\n",
       "         [ 2.78431373e-01],\n",
       "         [ 2.39215686e-01]],\n",
       "\n",
       "        [[ 3.92156863e-02],\n",
       "         [ 5.88235294e-02],\n",
       "         [ 2.27450980e-01],\n",
       "         ...,\n",
       "         [ 8.23529412e-02],\n",
       "         [ 3.52941176e-02],\n",
       "         [ 1.25490196e-01]]],\n",
       "\n",
       "\n",
       "       [[[-3.68235294e+00],\n",
       "         [-3.30588235e+00],\n",
       "         [-3.78039216e+00],\n",
       "         ...,\n",
       "         [ 9.01960784e-02],\n",
       "         [ 2.74509804e-01],\n",
       "         [ 4.31372549e-01]],\n",
       "\n",
       "        [[-3.65882353e+00],\n",
       "         [-3.46274510e+00],\n",
       "         [-3.87058824e+00],\n",
       "         ...,\n",
       "         [ 3.84313725e-01],\n",
       "         [ 2.39215686e-01],\n",
       "         [ 1.05882353e-01]],\n",
       "\n",
       "        [[-2.87450980e+00],\n",
       "         [-3.73725490e+00],\n",
       "         [-3.43921569e+00],\n",
       "         ...,\n",
       "         [-3.25490196e-01],\n",
       "         [ 1.45098039e-01],\n",
       "         [ 5.41176471e-01]],\n",
       "\n",
       "        ...,\n",
       "\n",
       "        [[-3.26666667e+00],\n",
       "         [-3.35294118e+00],\n",
       "         [-4.03921569e+00],\n",
       "         ...,\n",
       "         [-3.63921569e+00],\n",
       "         [-3.45098039e+00],\n",
       "         [-3.51372549e+00]],\n",
       "\n",
       "        [[-3.32156863e+00],\n",
       "         [-3.76470588e+00],\n",
       "         [-3.17647059e+00],\n",
       "         ...,\n",
       "         [-2.99215686e+00],\n",
       "         [-3.86274510e+00],\n",
       "         [-3.90980392e+00]],\n",
       "\n",
       "        [[-3.47843137e+00],\n",
       "         [-3.95294118e+00],\n",
       "         [-3.48235294e+00],\n",
       "         ...,\n",
       "         [-4.05490196e+00],\n",
       "         [-3.73333333e+00],\n",
       "         [-3.09803922e+00]]]])"
      ]
     },
     "execution_count": 17,
     "metadata": {},
     "output_type": "execute_result"
    }
   ],
   "source": [
    "X_train"
   ]
  },
  {
   "cell_type": "code",
   "execution_count": 18,
   "id": "9f5d6e82",
   "metadata": {},
   "outputs": [
    {
     "name": "stdout",
     "output_type": "stream",
     "text": [
      "# of Samples: 338\n",
      "# of Non-Nodule: 177\n",
      "# of Nodule: 161\n",
      "# of Samples: 85\n",
      "# of Non-Nodule: 45\n",
      "# of Nodule: 40\n"
     ]
    }
   ],
   "source": [
    "print('# of Samples:', len(y_train))\n",
    "sum1=0\n",
    "sum2=0\n",
    "for i in range(len(y_train)):\n",
    "    if(y_train[i]==0):\n",
    "        sum1=sum1+1\n",
    "    else:\n",
    "        sum2=sum2+1\n",
    "print('# of Non-Nodule:', sum1)\n",
    "print('# of Nodule:', sum2)\n",
    "\n",
    "print('# of Samples:', len(y_test))\n",
    "sum1=0\n",
    "sum2=0\n",
    "for i in range(len(y_test)):\n",
    "    if(y_test[i]==0):\n",
    "        sum1=sum1+1\n",
    "    else:\n",
    "        sum2=sum2+1\n",
    "print('# of Non-Nodule:', sum1)\n",
    "print('# of Nodule:', sum2)"
   ]
  },
  {
   "cell_type": "code",
   "execution_count": 19,
   "id": "ab536690",
   "metadata": {},
   "outputs": [
    {
     "data": {
      "text/plain": [
       "array([0, 0, 1, 1, 0, 0, 0, 0, 0, 0, 1, 1, 0, 0, 0, 0, 1, 1, 1, 0, 0, 1,\n",
       "       0, 0, 1, 0, 1, 0, 1, 0, 1, 0, 0, 1, 0, 0, 0, 0, 0, 0, 1, 1, 1, 0,\n",
       "       0, 0, 1, 0, 1, 1, 1, 1, 1, 0, 0, 0, 0, 0, 1, 0, 1, 0, 1, 1, 0, 1,\n",
       "       0, 0, 1, 0, 0, 1, 1, 0, 0, 1, 1, 0, 1, 0, 0, 0, 1, 0, 0, 0, 0, 0,\n",
       "       1, 1, 0, 1, 1, 1, 0, 1, 1, 1, 0, 1, 0, 0, 0, 0, 1, 0, 1, 0, 1, 1,\n",
       "       0, 0, 0, 1, 1, 1, 0, 1, 0, 0, 0, 0, 0, 1, 1, 0, 1, 0, 0, 1, 1, 1,\n",
       "       1, 0, 1, 1, 0, 1, 1, 1, 0, 0, 0, 1, 1, 0, 1, 1, 1, 1, 1, 0, 1, 1,\n",
       "       0, 0, 1, 0, 1, 1, 1, 0, 1, 0, 0, 0, 0, 0, 0, 0, 0, 0, 0, 1, 1, 0,\n",
       "       1, 1, 0, 1, 0, 1, 1, 1, 1, 1, 0, 1, 1, 0, 1, 1, 0, 1, 1, 0, 0, 1,\n",
       "       1, 1, 0, 1, 0, 1, 1, 1, 1, 1, 0, 0, 0, 1, 1, 0, 1, 0, 0, 0, 0, 0,\n",
       "       0, 1, 1, 1, 1, 0, 1, 0, 0, 0, 0, 0, 1, 0, 1, 0, 0, 1, 1, 1, 0, 0,\n",
       "       1, 0, 1, 1, 1, 0, 0, 0, 1, 1, 0, 0, 1, 1, 1, 0, 1, 1, 0, 1, 0, 1,\n",
       "       1, 0, 0, 1, 0, 1, 0, 0, 1, 0, 0, 1, 0, 0, 0, 1, 0, 0, 0, 0, 0, 0,\n",
       "       0, 1, 1, 0, 0, 0, 1, 1, 1, 1, 0, 0, 0, 0, 1, 1, 1, 1, 0, 1, 0, 1,\n",
       "       0, 0, 1, 1, 0, 1, 0, 1, 1, 0, 1, 1, 1, 0, 0, 1, 0, 0, 1, 0, 0, 1,\n",
       "       1, 0, 0, 1, 0, 1, 0, 1])"
      ]
     },
     "execution_count": 19,
     "metadata": {},
     "output_type": "execute_result"
    }
   ],
   "source": [
    "y_train"
   ]
  },
  {
   "cell_type": "code",
   "execution_count": 20,
   "id": "1af7d7f9",
   "metadata": {},
   "outputs": [],
   "source": [
    "adam = Adam(learning_rate=0.0001)\n",
    "sgd = SGD(learning_rate=0.005)"
   ]
  },
  {
   "cell_type": "code",
   "execution_count": 21,
   "id": "3bce6ac6",
   "metadata": {},
   "outputs": [],
   "source": [
    "def model():\n",
    "    \n",
    "    input_shape = (64,64,1)\n",
    "    model = Sequential()\n",
    "    img_width, img_height = 224, 224\n",
    "\n",
    "    #convolution layer 1\n",
    "    model.add(Conv2D(8, kernel_size=(5,5), strides=(1, 1), padding = 'same',\n",
    "             activation='relu'))\n",
    "\n",
    "    model.add(MaxPooling2D(pool_size=(2, 2), strides=(2,2),padding = 'same'))\n",
    "\n",
    "    #convolution layer 2\n",
    "    model.add(Conv2D(16, kernel_size=(5,5), strides=(1, 1), padding = 'same',\n",
    "             activation='relu'))        \n",
    "\n",
    "    model.add(MaxPooling2D(pool_size=(2, 2), strides=(2, 2),padding = 'same'))\n",
    "\n",
    "    model.add(Flatten())\n",
    "\n",
    "    model.add(Dense(128))\n",
    "    model.add(Dropout(0.2))\n",
    "\n",
    "    # readout layer\n",
    "    model.add(Dense(2))\n",
    "\n",
    "    model.add(Activation('softmax'))\n",
    "\n",
    "\n",
    "    model.compile(loss='sparse_categorical_crossentropy', # or categorical_crossentropy\n",
    "                  optimizer='sgd',\n",
    "                  metrics=['accuracy'])\n",
    "\n",
    "    return model\n",
    "\n",
    "model=model()\n",
    "\n",
    "\n"
   ]
  },
  {
   "cell_type": "code",
   "execution_count": 22,
   "id": "3560f82f",
   "metadata": {},
   "outputs": [
    {
     "name": "stdout",
     "output_type": "stream",
     "text": [
      "Epoch 1/20\n",
      "10/10 [==============================] - 2s 128ms/step - loss: 1.1614 - accuracy: 0.4638 - val_loss: 0.7177 - val_accuracy: 0.5882\n",
      "Epoch 2/20\n",
      "10/10 [==============================] - 1s 82ms/step - loss: 0.6655 - accuracy: 0.6217 - val_loss: 0.7028 - val_accuracy: 0.5882\n",
      "Epoch 3/20\n",
      "10/10 [==============================] - 1s 84ms/step - loss: 0.6269 - accuracy: 0.6809 - val_loss: 0.6704 - val_accuracy: 0.6471\n",
      "Epoch 4/20\n",
      "10/10 [==============================] - 1s 84ms/step - loss: 0.5935 - accuracy: 0.7072 - val_loss: 0.6251 - val_accuracy: 0.7353\n",
      "Epoch 5/20\n",
      "10/10 [==============================] - 1s 83ms/step - loss: 0.5625 - accuracy: 0.7072 - val_loss: 0.6180 - val_accuracy: 0.7353\n",
      "Epoch 6/20\n",
      "10/10 [==============================] - 1s 84ms/step - loss: 0.5220 - accuracy: 0.7928 - val_loss: 0.7089 - val_accuracy: 0.5588\n",
      "Epoch 7/20\n",
      "10/10 [==============================] - 1s 78ms/step - loss: 0.5474 - accuracy: 0.7566 - val_loss: 0.6304 - val_accuracy: 0.7059\n",
      "Epoch 8/20\n",
      "10/10 [==============================] - 1s 82ms/step - loss: 0.4740 - accuracy: 0.8224 - val_loss: 0.5788 - val_accuracy: 0.7059\n",
      "Epoch 9/20\n",
      "10/10 [==============================] - 1s 83ms/step - loss: 0.4501 - accuracy: 0.7928 - val_loss: 0.5276 - val_accuracy: 0.7647\n",
      "Epoch 10/20\n",
      "10/10 [==============================] - 1s 83ms/step - loss: 0.4101 - accuracy: 0.8224 - val_loss: 0.5232 - val_accuracy: 0.7941\n",
      "Epoch 11/20\n",
      "10/10 [==============================] - 1s 84ms/step - loss: 0.3941 - accuracy: 0.8520 - val_loss: 0.4890 - val_accuracy: 0.8235\n",
      "Epoch 12/20\n",
      "10/10 [==============================] - 1s 78ms/step - loss: 0.3596 - accuracy: 0.8684 - val_loss: 0.5134 - val_accuracy: 0.8235\n",
      "Epoch 13/20\n",
      "10/10 [==============================] - 1s 78ms/step - loss: 0.3393 - accuracy: 0.8454 - val_loss: 0.5028 - val_accuracy: 0.8235\n",
      "Epoch 14/20\n",
      "10/10 [==============================] - 1s 79ms/step - loss: 0.3212 - accuracy: 0.8882 - val_loss: 0.4881 - val_accuracy: 0.8235\n",
      "Epoch 15/20\n",
      "10/10 [==============================] - 1s 79ms/step - loss: 0.3108 - accuracy: 0.8783 - val_loss: 0.4460 - val_accuracy: 0.8235\n",
      "Epoch 16/20\n",
      "10/10 [==============================] - 1s 80ms/step - loss: 0.2934 - accuracy: 0.8849 - val_loss: 0.4823 - val_accuracy: 0.8824\n",
      "Epoch 17/20\n",
      "10/10 [==============================] - 1s 80ms/step - loss: 0.3016 - accuracy: 0.8947 - val_loss: 0.5014 - val_accuracy: 0.8529\n",
      "Epoch 18/20\n",
      "10/10 [==============================] - 1s 72ms/step - loss: 0.2890 - accuracy: 0.8849 - val_loss: 0.5411 - val_accuracy: 0.7941\n",
      "Epoch 19/20\n",
      "10/10 [==============================] - 1s 73ms/step - loss: 0.2456 - accuracy: 0.9309 - val_loss: 0.6446 - val_accuracy: 0.7059\n",
      "Epoch 20/20\n",
      "10/10 [==============================] - 1s 80ms/step - loss: 0.2749 - accuracy: 0.8980 - val_loss: 0.4598 - val_accuracy: 0.8235\n"
     ]
    }
   ],
   "source": [
    "#fitting the model with train data and validating on validation data\n",
    "history=model.fit(X_train,y_train, \n",
    "                        epochs=20,\n",
    "                        verbose=1,\n",
    "                        validation_split=0.1)"
   ]
  },
  {
   "cell_type": "code",
   "execution_count": 23,
   "id": "2035b4d5",
   "metadata": {},
   "outputs": [
    {
     "name": "stdout",
     "output_type": "stream",
     "text": [
      "Model: \"sequential\"\n",
      "_________________________________________________________________\n",
      " Layer (type)                Output Shape              Param #   \n",
      "=================================================================\n",
      " conv2d (Conv2D)             (None, 64, 64, 8)         208       \n",
      "                                                                 \n",
      " max_pooling2d (MaxPooling2D  (None, 32, 32, 8)        0         \n",
      " )                                                               \n",
      "                                                                 \n",
      " conv2d_1 (Conv2D)           (None, 32, 32, 16)        3216      \n",
      "                                                                 \n",
      " max_pooling2d_1 (MaxPooling  (None, 16, 16, 16)       0         \n",
      " 2D)                                                             \n",
      "                                                                 \n",
      " flatten (Flatten)           (None, 4096)              0         \n",
      "                                                                 \n",
      " dense (Dense)               (None, 128)               524416    \n",
      "                                                                 \n",
      " dropout (Dropout)           (None, 128)               0         \n",
      "                                                                 \n",
      " dense_1 (Dense)             (None, 2)                 258       \n",
      "                                                                 \n",
      " activation (Activation)     (None, 2)                 0         \n",
      "                                                                 \n",
      "=================================================================\n",
      "Total params: 528,098\n",
      "Trainable params: 528,098\n",
      "Non-trainable params: 0\n",
      "_________________________________________________________________\n"
     ]
    }
   ],
   "source": [
    "model.summary()"
   ]
  },
  {
   "cell_type": "code",
   "execution_count": 24,
   "id": "d881803e",
   "metadata": {},
   "outputs": [
    {
     "data": {
      "image/png": "[encoded data removed]",
      "text/plain": [
       "<IPython.core.display.Image object>"
      ]
     },
     "execution_count": 24,
     "metadata": {},
     "output_type": "execute_result"
    }
   ],
   "source": [
    "import keras\n",
    "import pydot\n",
    "import pydotplus\n",
    "from pydotplus import graphviz\n",
    "from keras.utils.vis_utils import plot_model\n",
    "from keras.utils.vis_utils import model_to_dot\n",
    "keras.utils.vis_utils.pydot = pydot\n",
    "plot_model(\n",
    "    model,\n",
    "    to_file='model.png',\n",
    "    show_shapes=False,\n",
    "    show_dtype=False,\n",
    "    show_layer_names=True,\n",
    "    rankdir='TB',\n",
    "    expand_nested=False,\n",
    "    dpi=96,\n",
    "    layer_range=None,\n",
    "    show_layer_activations=False\n",
    ")"
   ]
  },
  {
   "cell_type": "code",
   "execution_count": 25,
   "id": "088dc0a1",
   "metadata": {},
   "outputs": [
    {
     "name": "stdout",
     "output_type": "stream",
     "text": [
      "3/3 [==============================] - 0s 46ms/step - loss: 0.5012 - accuracy: 0.7765\n"
     ]
    },
    {
     "data": {
      "text/plain": [
       "[0.5012121796607971, 0.7764706015586853]"
      ]
     },
     "execution_count": 25,
     "metadata": {},
     "output_type": "execute_result"
    }
   ],
   "source": [
    "# Evaluate performance\n",
    "model.evaluate(X_test, y_test)"
   ]
  },
  {
   "cell_type": "code",
   "execution_count": 26,
   "id": "df8b7340",
   "metadata": {},
   "outputs": [],
   "source": [
    "y_pred = np.argmax(model.predict(X_test), axis=-1)\n",
    "y_pred = y_pred.reshape(-1)"
   ]
  },
  {
   "cell_type": "code",
   "execution_count": 27,
   "id": "c5369d89",
   "metadata": {},
   "outputs": [
    {
     "data": {
      "text/plain": [
       "array([1, 0, 1, 1, 1, 0, 1, 1, 0, 1, 0, 0, 1, 1, 0, 1, 0, 1, 0, 1, 0, 0,\n",
       "       1, 1, 0, 1, 1, 0, 0, 0, 0, 1, 1, 0, 0, 0, 1, 0, 0, 1, 0, 1, 1, 0,\n",
       "       0, 0, 0, 1, 0, 0, 0, 1, 1, 1, 0, 0, 1, 0, 0, 0, 1, 1, 0, 0, 1, 0,\n",
       "       0, 1, 0, 0, 0, 0, 1, 1, 0, 0, 0, 0, 0, 0, 1, 0, 1, 0, 0],\n",
       "      dtype=int64)"
      ]
     },
     "execution_count": 27,
     "metadata": {},
     "output_type": "execute_result"
    }
   ],
   "source": [
    "y_pred"
   ]
  },
  {
   "cell_type": "code",
   "execution_count": 28,
   "id": "e8f88b55",
   "metadata": {},
   "outputs": [
    {
     "data": {
      "text/plain": [
       "array([1, 0, 1, 1, 1, 0, 1, 1, 0, 1, 0, 0, 0, 0, 1, 1, 0, 1, 1, 0, 0, 1,\n",
       "       1, 0, 0, 1, 1, 0, 0, 0, 0, 1, 1, 0, 0, 0, 1, 0, 0, 1, 1, 1, 1, 0,\n",
       "       0, 0, 0, 1, 0, 1, 0, 1, 1, 1, 0, 0, 1, 0, 1, 0, 1, 1, 0, 0, 1, 1,\n",
       "       0, 1, 0, 1, 0, 0, 0, 0, 0, 1, 0, 0, 1, 0, 1, 1, 0, 1, 0])"
      ]
     },
     "execution_count": 28,
     "metadata": {},
     "output_type": "execute_result"
    }
   ],
   "source": [
    "y_test"
   ]
  },
  {
   "cell_type": "code",
   "execution_count": 39,
   "id": "942445c6",
   "metadata": {},
   "outputs": [],
   "source": [
    "non_test=([1, 0, 1, 1, 1, 0, 1, 1, 0, 1, 0, 0, 0, 1, 0, 1, 0, 0, 0, 1, 0, 1,\n",
    "       1, 1, 0, 1, 1, 0, 0, 0, 0, 1, 0, 0, 0, 0, 1, 0, 0, 0, 1, 0, 1, 0,\n",
    "       0, 0, 0, 1, 0, 0, 0, 1, 1, 1, 0, 0, 1, 0, 0, 0, 1, 1, 0, 0, 0, 0,\n",
    "       0, 1, 0, 1, 1, 0, 1, 0, 1, 0, 0, 0, 0, 0, 1, 0, 1, 0, 0])"
   ]
  },
  {
   "cell_type": "code",
   "execution_count": 41,
   "id": "2aa6e72a",
   "metadata": {},
   "outputs": [
    {
     "name": "stdout",
     "output_type": "stream",
     "text": [
      "Sensitivity :  0.8653846153846154\n",
      "Specificity :  0.8484848484848485\n",
      "              precision    recall  f1-score   support\n",
      "\n",
      "           0       0.90      0.87      0.88        52\n",
      "           1       0.80      0.85      0.82        33\n",
      "\n",
      "    accuracy                           0.86        85\n",
      "   macro avg       0.85      0.86      0.85        85\n",
      "weighted avg       0.86      0.86      0.86        85\n",
      "\n"
     ]
    },
    {
     "data": {
      "image/png": "[encoded data removed]",
      "text/plain": [
       "<Figure size 432x432 with 2 Axes>"
      ]
     },
     "metadata": {
      "needs_background": "light"
     },
     "output_type": "display_data"
    }
   ],
   "source": [
    "import seaborn as sns\n",
    "import sklearn\n",
    "from sklearn.metrics import classification_report, confusion_matrix\n",
    "from sklearn.metrics import precision_score,recall_score,f1_score\n",
    "\n",
    "\n",
    "\n",
    "cm = confusion_matrix(non_test, y_pred)\n",
    "\n",
    "plt.figure(figsize=(6, 6))\n",
    "sns.heatmap(cm, annot=True, fmt='.0f', square=True, linewidths=.5, cmap='Greens_r')\n",
    "plt.ylabel('Actual Label')\n",
    "plt.xlabel('Predicted Label')\n",
    "plt.savefig('confusion_matrix.png')\n",
    "sensitivity1 = cm[0,0]/(cm[0,0]+cm[0,1])\n",
    "print('Sensitivity : ', sensitivity1 )\n",
    "specificity1 = cm[1,1]/(cm[1,0]+cm[1,1])\n",
    "print('Specificity : ', specificity1)\n",
    "\n",
    "\n",
    "print(sklearn.metrics.classification_report(non_test, y_pred))"
   ]
  },
  {
   "cell_type": "code",
   "execution_count": 31,
   "id": "799e2e1d",
   "metadata": {},
   "outputs": [
    {
     "data": {
      "image/png": "[encoded data removed]",
      "text/plain": [
       "<Figure size 432x288 with 1 Axes>"
      ]
     },
     "metadata": {
      "needs_background": "light"
     },
     "output_type": "display_data"
    },
    {
     "data": {
      "text/plain": [
       "<Figure size 432x288 with 0 Axes>"
      ]
     },
     "metadata": {},
     "output_type": "display_data"
    }
   ],
   "source": [
    "import pandas as pd\n",
    "import numpy as np\n",
    "from sklearn.model_selection import train_test_split\n",
    "from sklearn.linear_model import LogisticRegression\n",
    "from sklearn import metrics\n",
    "import matplotlib.pyplot as plt\n",
    "fpr, tpr, _ = metrics.roc_curve(y_test, y_pred)\n",
    "auc = metrics.roc_auc_score(y_test, y_pred)\n",
    "\n",
    "#create ROC curve\n",
    "plt.plot(fpr,tpr,label=\"AUC=\"+str(auc))\n",
    "plt.ylabel('True Positive Rate')\n",
    "plt.xlabel('False Positive Rate')\n",
    "plt.legend(loc=4)\n",
    "plt.show()\n",
    "plt.savefig('auc.png')\n"
   ]
  },
  {
   "cell_type": "code",
   "execution_count": 32,
   "id": "cd5e2de8",
   "metadata": {},
   "outputs": [],
   "source": [
    "train_acc = history.history['accuracy']\n",
    "val_acc = history.history['val_accuracy']\n",
    "train_loss = history.history['loss']\n",
    "val_loss = history.history['val_loss']"
   ]
  },
  {
   "cell_type": "code",
   "execution_count": 33,
   "id": "ca2a67d9",
   "metadata": {},
   "outputs": [
    {
     "data": {
      "image/png": "[encoded data removed]",
      "text/plain": [
       "<Figure size 432x288 with 1 Axes>"
      ]
     },
     "metadata": {
      "needs_background": "light"
     },
     "output_type": "display_data"
    },
    {
     "data": {
      "text/plain": [
       "<Figure size 432x288 with 0 Axes>"
      ]
     },
     "metadata": {},
     "output_type": "display_data"
    },
    {
     "data": {
      "image/png": "[encoded data removed]",
      "text/plain": [
       "<Figure size 432x288 with 1 Axes>"
      ]
     },
     "metadata": {
      "needs_background": "light"
     },
     "output_type": "display_data"
    }
   ],
   "source": [
    "epochs = range(len(train_acc)) \n",
    "plt.plot(epochs, train_acc, 'b', label='Training Accuracy')\n",
    "plt.plot(epochs, val_acc, 'r', label='Validation Accuracy')\n",
    "plt.title('Training and Validation Accuracy')\n",
    "plt.legend()\n",
    "plt.figure()\n",
    "plt.show()\n",
    "\n",
    "plt.plot(epochs, train_loss, 'b', label='Training Loss')\n",
    "plt.plot(epochs, val_loss, 'r', label='Validation Loss')\n",
    "plt.title('Training and Validation Loss')\n",
    "plt.legend()\n",
    "plt.show()"
   ]
  },
  {
   "cell_type": "code",
   "execution_count": null,
   "id": "0f8eb2f8",
   "metadata": {},
   "outputs": [],
   "source": []
  }
 ],
 "metadata": {
  "kernelspec": {
   "display_name": "Python 3",
   "language": "python",
   "name": "python3"
  },
  "language_info": {
   "codemirror_mode": {
    "name": "ipython",
    "version": 3
   },
   "file_extension": ".py",
   "mimetype": "text/x-python",
   "name": "python",
   "nbconvert_exporter": "python",
   "pygments_lexer": "ipython3",
   "version": "3.8.8"
  }
 },
 "nbformat": 4,
 "nbformat_minor": 5
}
