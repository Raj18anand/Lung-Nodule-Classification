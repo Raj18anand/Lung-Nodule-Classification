{
 "cells": [
  {
   "cell_type": "code",
   "execution_count": 1,
   "id": "484c258f",
   "metadata": {},
   "outputs": [],
   "source": [
    "import SimpleITK as sitk\n",
    "import numpy as np\n",
    "import pandas\n",
    "import os\n",
    "import glob\n",
    "import tensorflow as tf\n",
    "import gc\n",
    "from tensorflow import keras\n",
    "from tensorflow.keras import layers\n",
    "import random\n",
    "from scipy import ndimage\n",
    "import matplotlib.pyplot as plt\n",
    "from skimage import color\n",
    "from numpy import newaxis\n",
    "import csv\n",
    "import sys\n",
    "from scipy.ndimage import zoom\n",
    "from keras.models import Sequential\n",
    "from tensorflow.keras.optimizers import Adam, SGD\n",
    "from keras.preprocessing.image import ImageDataGenerator\n",
    "from tensorflow.keras import Model\n",
    "from keras.layers import *\n",
    "import cv2\n",
    "from keras.preprocessing import image\n",
    "import pickle\n"
   ]
  },
  {
   "cell_type": "code",
   "execution_count": 2,
   "id": "e4f90a72",
   "metadata": {},
   "outputs": [],
   "source": [
    "train = ImageDataGenerator(rescale=1./255)\n",
    "validation = ImageDataGenerator(rescale=1./255)\n",
    "test = ImageDataGenerator(rescale=1./255)"
   ]
  },
  {
   "cell_type": "code",
   "execution_count": 3,
   "id": "5f3da528",
   "metadata": {},
   "outputs": [
    {
     "name": "stdout",
     "output_type": "stream",
     "text": [
      "Found 358 images belonging to 2 classes.\n",
      "Found 358 images belonging to 2 classes.\n",
      "Found 358 images belonging to 2 classes.\n"
     ]
    }
   ],
   "source": [
    "train_dataset = train.flow_from_directory(\n",
    "        'LIDC_DATA/train/',\n",
    "        target_size=(64, 64),\n",
    "        batch_size=16,\n",
    "        color_mode= 'grayscale',\n",
    "        class_mode = 'binary')\n",
    "\n",
    "validation_dataset = validation.flow_from_directory(\n",
    "        'LIDC_DATA/val/',\n",
    "        target_size=(64, 64),\n",
    "        batch_size=16,\n",
    "        color_mode= 'grayscale',\n",
    "        class_mode = 'binary')\n",
    "\n",
    "test_dataset = test.flow_from_directory(\n",
    "        'LIDC_DATA/test/',\n",
    "        target_size=(64, 64),\n",
    "        batch_size=16,\n",
    "        color_mode= 'grayscale',\n",
    "        class_mode = 'binary',\n",
    "        shuffle = 'true')"
   ]
  },
  {
   "cell_type": "code",
   "execution_count": 4,
   "id": "7efca908",
   "metadata": {},
   "outputs": [],
   "source": [
    "adam = Adam(learning_rate=0.0001)\n",
    "sgd = SGD(learning_rate=0.01)"
   ]
  },
  {
   "cell_type": "code",
   "execution_count": 5,
   "id": "32df832b",
   "metadata": {},
   "outputs": [],
   "source": [
    "def model():\n",
    "    \n",
    "    input_shape = (64,64,1)\n",
    "    model = Sequential()\n",
    "    img_width, img_height = 64, 64\n",
    "\n",
    "    #convolution layer 1\n",
    "    model.add(Conv2D(8, kernel_size=(5,5), strides=(1, 1), padding = 'same',\n",
    "             activation='relu'))\n",
    "\n",
    "    model.add(MaxPooling2D(pool_size=(2, 2), strides=(2,2),padding = 'same'))\n",
    "\n",
    "    #convolution layer 2\n",
    "    model.add(Conv2D(16, kernel_size=(5,5), strides=(1, 1), padding = 'same',\n",
    "             activation='relu'))        \n",
    "\n",
    "    model.add(MaxPooling2D(pool_size=(2, 2), strides=(2, 2),padding = 'same'))\n",
    "\n",
    "    model.add(Flatten())\n",
    "\n",
    "    model.add(Dense(128))\n",
    "    model.add(Dropout(0.2))\n",
    "\n",
    "    # readout layer\n",
    "    model.add(Dense(2))\n",
    "\n",
    "    model.add(Activation('softmax'))\n",
    "\n",
    "\n",
    "    model.compile(loss='sparse_categorical_crossentropy', # or categorical_crossentropy\n",
    "                  optimizer='sgd',\n",
    "                  metrics=['accuracy'])\n",
    "\n",
    "    return model\n",
    "\n",
    "model=model()\n",
    "\n",
    "\n"
   ]
  },
  {
   "cell_type": "code",
   "execution_count": 6,
   "id": "9a83734a",
   "metadata": {},
   "outputs": [
    {
     "name": "stdout",
     "output_type": "stream",
     "text": [
      "Epoch 1/20\n",
      "22/22 [==============================] - 8s 337ms/step - loss: 0.6560 - accuracy: 0.6201 - val_loss: 0.5892 - val_accuracy: 0.8436\n",
      "Epoch 2/20\n",
      "22/22 [==============================] - 2s 92ms/step - loss: 0.5213 - accuracy: 0.8184 - val_loss: 0.4154 - val_accuracy: 0.8575\n",
      "Epoch 3/20\n",
      "22/22 [==============================] - 2s 95ms/step - loss: 0.3718 - accuracy: 0.8464 - val_loss: 0.3070 - val_accuracy: 0.8855\n",
      "Epoch 4/20\n",
      "22/22 [==============================] - 2s 93ms/step - loss: 0.3027 - accuracy: 0.8771 - val_loss: 0.2673 - val_accuracy: 0.8911\n",
      "Epoch 5/20\n",
      "22/22 [==============================] - 2s 84ms/step - loss: 0.2816 - accuracy: 0.8827 - val_loss: 0.2376 - val_accuracy: 0.9190\n",
      "Epoch 6/20\n",
      "22/22 [==============================] - 2s 87ms/step - loss: 0.2380 - accuracy: 0.9050 - val_loss: 0.2168 - val_accuracy: 0.9190\n",
      "Epoch 7/20\n",
      "22/22 [==============================] - 2s 100ms/step - loss: 0.2227 - accuracy: 0.9022 - val_loss: 0.2042 - val_accuracy: 0.9330\n",
      "Epoch 8/20\n",
      "22/22 [==============================] - 2s 67ms/step - loss: 0.2720 - accuracy: 0.8966 - val_loss: 0.1956 - val_accuracy: 0.9385\n",
      "Epoch 9/20\n",
      "22/22 [==============================] - 2s 92ms/step - loss: 0.2100 - accuracy: 0.9274 - val_loss: 0.1967 - val_accuracy: 0.9274\n",
      "Epoch 10/20\n",
      "22/22 [==============================] - 2s 90ms/step - loss: 0.2020 - accuracy: 0.9302 - val_loss: 0.2153 - val_accuracy: 0.9078\n",
      "Epoch 11/20\n",
      "22/22 [==============================] - 2s 88ms/step - loss: 0.1902 - accuracy: 0.9302 - val_loss: 0.1973 - val_accuracy: 0.9274\n",
      "Epoch 12/20\n",
      "22/22 [==============================] - 2s 83ms/step - loss: 0.2137 - accuracy: 0.9246 - val_loss: 0.1719 - val_accuracy: 0.9441\n",
      "Epoch 13/20\n",
      "22/22 [==============================] - 2s 94ms/step - loss: 0.1947 - accuracy: 0.9190 - val_loss: 0.2388 - val_accuracy: 0.8883\n",
      "Epoch 14/20\n",
      "22/22 [==============================] - 2s 89ms/step - loss: 0.2016 - accuracy: 0.9106 - val_loss: 0.1627 - val_accuracy: 0.9358\n",
      "Epoch 15/20\n",
      "22/22 [==============================] - 2s 90ms/step - loss: 0.1750 - accuracy: 0.9385 - val_loss: 0.1425 - val_accuracy: 0.9441\n",
      "Epoch 16/20\n",
      "22/22 [==============================] - 2s 80ms/step - loss: 0.1669 - accuracy: 0.9469 - val_loss: 0.1389 - val_accuracy: 0.9497\n",
      "Epoch 17/20\n",
      "22/22 [==============================] - 2s 83ms/step - loss: 0.1580 - accuracy: 0.9497 - val_loss: 0.1356 - val_accuracy: 0.9665\n",
      "Epoch 18/20\n",
      "22/22 [==============================] - 2s 90ms/step - loss: 0.1551 - accuracy: 0.9413 - val_loss: 0.1269 - val_accuracy: 0.9581\n",
      "Epoch 19/20\n",
      "22/22 [==============================] - 2s 94ms/step - loss: 0.1674 - accuracy: 0.9413 - val_loss: 0.1240 - val_accuracy: 0.9693\n",
      "Epoch 20/20\n",
      "22/22 [==============================] - 2s 79ms/step - loss: 0.1571 - accuracy: 0.9525 - val_loss: 0.1196 - val_accuracy: 0.9581\n"
     ]
    }
   ],
   "source": [
    "model_fit = model.fit(train_dataset, \n",
    "      steps_per_epoch=train_dataset.samples/train_dataset.batch_size,\n",
    "      epochs=20,\n",
    "      validation_data=validation_dataset,\n",
    "      validation_steps=validation_dataset.samples/validation_dataset.batch_size,\n",
    "      verbose=1)"
   ]
  },
  {
   "cell_type": "code",
   "execution_count": 7,
   "id": "c8ffe767",
   "metadata": {},
   "outputs": [
    {
     "name": "stdout",
     "output_type": "stream",
     "text": [
      "23/23 [==============================] - 2s 106ms/step - loss: 0.1196 - accuracy: 0.9581\n"
     ]
    },
    {
     "data": {
      "text/plain": [
       "[0.1195620521903038, 0.9581005573272705]"
      ]
     },
     "execution_count": 7,
     "metadata": {},
     "output_type": "execute_result"
    }
   ],
   "source": [
    "# Evaluate performance\n",
    "model.evaluate(test_dataset)"
   ]
  },
  {
   "cell_type": "code",
   "execution_count": 17,
   "id": "23b361cb",
   "metadata": {},
   "outputs": [
    {
     "data": {
      "text/plain": [
       "array([ 21, 350,  38, 246, 236, 142, 340,  13, 267,  86,  47, 268, 221,\n",
       "        83,  52,   0, 293, 156, 171,  46,  40, 111, 341,  85, 222,  31,\n",
       "        82, 352,  33, 121, 224, 189, 219, 146,  87,  28, 172, 258,  41,\n",
       "       332, 235, 281, 279,  75,  29, 166, 355,  73, 275, 212, 103, 131,\n",
       "       164, 181, 149, 354, 230, 208,  76, 204,  43, 114, 325, 206, 349,\n",
       "        68, 147,  98, 107, 169,  79, 138, 251,  14,  22, 357, 228, 233,\n",
       "        50, 318, 250,  84, 346, 213, 170,  19, 135, 175, 158,   5,  65,\n",
       "       134, 179,  67,   3, 301, 317, 173, 150, 276,   2, 124, 249, 302,\n",
       "         7,  18, 148, 345, 143, 339,  17, 210, 313, 144, 140,  96, 244,\n",
       "       278, 101, 151, 125, 261, 196, 311,  39, 336, 200, 102, 115, 280,\n",
       "       100, 256,  27, 296, 112, 163, 253,  61, 118, 297,  91,  99,  78,\n",
       "       220, 252, 263,  35,  80,  57,  15,  44, 344,  69, 207, 290, 123,\n",
       "        77, 205, 335, 269, 160, 215,  66,  62, 105, 330, 232, 303, 192,\n",
       "       109, 298, 193, 270, 209,  58, 153,  37, 338, 104, 273,   8, 117,\n",
       "        95,  36, 300, 316,  74, 182, 259,  23, 198, 334, 237, 202,  81,\n",
       "       227, 167, 201, 229, 274, 291, 218, 211, 157, 161, 295, 356, 186,\n",
       "       188, 108,  26, 216,  70, 320, 308, 304, 217, 299, 292, 174,  10,\n",
       "       310, 119, 288, 353,  16, 106,  49,  72, 312, 194, 243,  60, 248,\n",
       "       132, 110, 122, 283, 231, 127, 262, 126, 165, 306, 333,  34, 187,\n",
       "       238, 255, 247, 113,  53, 294, 137, 277,  32, 328,  97, 168,  56,\n",
       "       234, 257, 185,   9, 176, 287, 282,  51, 133, 305, 284, 322, 242,\n",
       "        55,  71, 203, 337, 128,  30, 324,  93, 225, 136, 326, 152,  59,\n",
       "        42,  88,   4, 264,  20, 199, 343,  25, 266,  63, 319,  45, 184,\n",
       "       329, 342, 272, 289,  92, 141, 245, 195, 271, 286, 240, 331, 254,\n",
       "       177, 260,  11, 139,   1, 315, 226,   6, 130, 159, 321, 145, 155,\n",
       "       116, 162, 183, 120, 285, 178,  89, 327, 223,  48, 154, 191, 309,\n",
       "       347, 214,  94, 351, 314, 265,  12,  90, 241,  64,  24, 323, 239,\n",
       "       180, 197, 348, 129,  54, 307, 190])"
      ]
     },
     "execution_count": 17,
     "metadata": {},
     "output_type": "execute_result"
    }
   ],
   "source": [
    "test_dataset.index_array"
   ]
  },
  {
   "cell_type": "code",
   "execution_count": 8,
   "id": "e99927ac",
   "metadata": {},
   "outputs": [],
   "source": [
    "y_pred = np.argmax(model.predict(test_dataset), axis=-1)\n",
    "y_pred = y_pred.reshape(-1)"
   ]
  },
  {
   "cell_type": "code",
   "execution_count": 20,
   "id": "277cfb78",
   "metadata": {},
   "outputs": [
    {
     "data": {
      "text/plain": [
       "array([1, 0, 1, 1, 1, 1, 0, 0, 0, 0, 0, 0, 0, 1, 1, 1, 1, 0, 1, 1, 0, 0,\n",
       "       1, 1, 1, 1, 0, 0, 1, 1, 0, 1, 0, 0, 0, 0, 1, 0, 0, 0, 0, 0, 1, 1,\n",
       "       1, 1, 1, 1, 1, 1, 1, 1, 1, 1, 0, 1, 1, 0, 1, 1, 1, 1, 0, 1, 1, 1,\n",
       "       1, 1, 1, 0, 1, 1, 0, 1, 0, 0, 0, 0, 0, 1, 0, 1, 1, 0, 0, 0, 1, 1,\n",
       "       0, 1, 1, 0, 1, 0, 1, 0, 1, 1, 1, 0, 0, 1, 1, 0, 0, 0, 0, 1, 1, 0,\n",
       "       0, 1, 0, 1, 1, 1, 0, 1, 1, 0, 0, 0, 1, 0, 0, 0, 0, 0, 1, 1, 1, 1,\n",
       "       1, 1, 1, 1, 1, 1, 0, 0, 0, 0, 1, 1, 0, 0, 0, 0, 1, 0, 1, 0, 0, 1,\n",
       "       1, 1, 1, 1, 1, 1, 1, 1, 1, 0, 1, 0, 0, 0, 0, 1, 0, 1, 1, 0, 0, 1,\n",
       "       1, 1, 0, 1, 1, 1, 0, 0, 1, 1, 1, 1, 0, 0, 1, 0, 0, 1, 1, 1, 1, 1,\n",
       "       1, 0, 1, 0, 0, 0, 0, 1, 1, 1, 1, 0, 0, 0, 0, 1, 0, 0, 1, 1, 0, 1,\n",
       "       1, 0, 0, 1, 0, 1, 0, 0, 1, 0, 1, 1, 0, 0, 1, 1, 0, 1, 0, 1, 0, 1,\n",
       "       0, 0, 1, 1, 1, 1, 1, 0, 1, 0, 0, 1, 1, 1, 0, 1, 1, 1, 0, 1, 0, 0,\n",
       "       0, 1, 1, 0, 0, 0, 1, 1, 1, 1, 1, 0, 1, 1, 0, 1, 0, 0, 0, 1, 0, 1,\n",
       "       1, 0, 0, 1, 0, 1, 1, 1, 1, 0, 1, 0, 0, 0, 0, 0, 1, 1, 1, 1, 0, 1,\n",
       "       1, 0, 1, 1, 1, 1, 1, 0, 0, 0, 1, 0, 1, 0, 1, 1, 0, 1, 1, 0, 1, 1,\n",
       "       1, 1, 0, 0, 1, 0, 0, 0, 1, 1, 1, 1, 1, 0, 0, 1, 0, 0, 1, 0, 0, 0,\n",
       "       0, 1, 0, 0, 0, 1], dtype=int64)"
      ]
     },
     "execution_count": 20,
     "metadata": {},
     "output_type": "execute_result"
    }
   ],
   "source": [
    "y_pred"
   ]
  },
  {
   "cell_type": "code",
   "execution_count": 10,
   "id": "77cf0c0c",
   "metadata": {},
   "outputs": [],
   "source": [
    "y_test=test_dataset.classes"
   ]
  },
  {
   "cell_type": "code",
   "execution_count": 11,
   "id": "dbd1e483",
   "metadata": {},
   "outputs": [
    {
     "data": {
      "text/plain": [
       "array([0, 0, 0, 0, 0, 0, 0, 0, 0, 0, 0, 0, 0, 0, 0, 0, 0, 0, 0, 0, 0, 0,\n",
       "       0, 0, 0, 0, 0, 0, 0, 0, 0, 0, 0, 0, 0, 0, 0, 0, 0, 0, 0, 0, 0, 0,\n",
       "       0, 0, 0, 0, 0, 0, 0, 0, 0, 0, 0, 0, 0, 0, 0, 0, 0, 0, 0, 0, 0, 0,\n",
       "       0, 0, 0, 0, 0, 0, 0, 0, 0, 0, 0, 0, 0, 0, 0, 0, 0, 0, 0, 0, 0, 0,\n",
       "       0, 0, 0, 0, 0, 0, 0, 0, 0, 0, 0, 0, 0, 0, 0, 0, 0, 0, 0, 0, 0, 0,\n",
       "       0, 0, 0, 0, 0, 0, 0, 0, 0, 0, 0, 0, 0, 0, 0, 0, 0, 0, 0, 0, 0, 0,\n",
       "       0, 0, 0, 0, 0, 0, 0, 0, 0, 0, 0, 0, 0, 0, 0, 0, 0, 0, 0, 0, 0, 0,\n",
       "       0, 0, 0, 0, 0, 0, 0, 0, 0, 0, 0, 0, 0, 0, 0, 0, 1, 1, 1, 1, 1, 1,\n",
       "       1, 1, 1, 1, 1, 1, 1, 1, 1, 1, 1, 1, 1, 1, 1, 1, 1, 1, 1, 1, 1, 1,\n",
       "       1, 1, 1, 1, 1, 1, 1, 1, 1, 1, 1, 1, 1, 1, 1, 1, 1, 1, 1, 1, 1, 1,\n",
       "       1, 1, 1, 1, 1, 1, 1, 1, 1, 1, 1, 1, 1, 1, 1, 1, 1, 1, 1, 1, 1, 1,\n",
       "       1, 1, 1, 1, 1, 1, 1, 1, 1, 1, 1, 1, 1, 1, 1, 1, 1, 1, 1, 1, 1, 1,\n",
       "       1, 1, 1, 1, 1, 1, 1, 1, 1, 1, 1, 1, 1, 1, 1, 1, 1, 1, 1, 1, 1, 1,\n",
       "       1, 1, 1, 1, 1, 1, 1, 1, 1, 1, 1, 1, 1, 1, 1, 1, 1, 1, 1, 1, 1, 1,\n",
       "       1, 1, 1, 1, 1, 1, 1, 1, 1, 1, 1, 1, 1, 1, 1, 1, 1, 1, 1, 1, 1, 1,\n",
       "       1, 1, 1, 1, 1, 1, 1, 1, 1, 1, 1, 1, 1, 1, 1, 1, 1, 1, 1, 1, 1, 1,\n",
       "       1, 1, 1, 1, 1, 1])"
      ]
     },
     "execution_count": 11,
     "metadata": {},
     "output_type": "execute_result"
    }
   ],
   "source": [
    "y_test"
   ]
  },
  {
   "cell_type": "code",
   "execution_count": 46,
   "id": "e19fccfa",
   "metadata": {},
   "outputs": [],
   "source": [
    "non_pred=([1, 0, 1, 1, 1, 1, 0, 1, 0, 0, 0, 0, 0, 1, 1, 1, 1, 0, 1, 1, 0, 0,\n",
    "       1, 1, 1, 1, 0, 0, 1, 1, 0, 1, 0, 1, 0, 0, 1, 1, 0, 1, 0, 1, 1, 1,\n",
    "       1, 1, 0, 1, 1, 1, 1, 1, 1, 1, 0, 1, 0, 0, 1, 1, 1, 1, 0, 1, 1, 1,\n",
    "       1, 1, 1, 0, 1, 1, 0, 1, 0, 0, 1, 0, 1, 1, 0, 1, 1, 0, 0, 0, 1, 0,\n",
    "       0, 1, 1, 0, 1, 0, 1, 0, 1, 1, 1, 0, 0, 1, 1, 0, 0, 0, 0, 1, 1, 0,\n",
    "       0, 1, 1, 1, 1, 1, 0, 1, 1, 0, 0, 0, 1, 0, 1, 0, 0, 0, 1, 1, 1, 1,\n",
    "       0, 1, 0, 1, 1, 1, 0, 0, 0, 0, 1, 1, 0, 0, 0, 0, 1, 0, 1, 0, 1, 1,\n",
    "       1, 1, 1, 1, 0, 1, 1, 1, 1, 0, 1, 0, 0, 0, 1, 1, 0, 1, 1, 0, 0, 1,\n",
    "       1, 1, 0, 1, 0, 1, 0, 0, 1, 1, 1, 1, 0, 0, 1, 0, 0, 1, 1, 1, 1, 1,\n",
    "       1, 0, 1, 0, 1, 0, 0, 1, 1, 1, 1, 0, 0, 1, 0, 0, 0, 0, 1, 1, 0, 1,\n",
    "       1, 0, 1, 1, 0, 1, 0, 0, 1, 1, 1, 1, 0, 0, 1, 1, 0, 1, 0, 1, 0, 1,\n",
    "       0, 0, 1, 1, 1, 1, 1, 0, 1, 0, 0, 1, 0, 1, 0, 1, 0, 1, 0, 1, 0, 0,\n",
    "       0, 1, 1, 0, 0, 0, 1, 1, 1, 1, 1, 0, 1, 1, 0, 1, 0, 0, 0, 1, 0, 1,\n",
    "       1, 0, 0, 1, 0, 1, 0, 1, 1, 0, 1, 0, 0, 0, 0, 0, 0, 1, 1, 1, 1, 1,\n",
    "       1, 0, 1, 1, 1, 1, 1, 0, 0, 0, 1, 0, 1, 0, 1, 1, 0, 1, 1, 0, 0, 1,\n",
    "       0, 1, 0, 1, 1, 0, 0, 0, 1, 1, 0, 1, 1, 0, 0, 1, 0, 0, 1, 0, 0, 0,\n",
    "       0, 1, 0, 0, 0, 1])"
   ]
  },
  {
   "cell_type": "code",
   "execution_count": 47,
   "id": "4acaaa2a",
   "metadata": {},
   "outputs": [
    {
     "name": "stdout",
     "output_type": "stream",
     "text": [
      "Sensitivity :  0.9056603773584906\n",
      "Specificity :  0.914572864321608\n",
      "              precision    recall  f1-score   support\n",
      "\n",
      "           0       0.89      0.91      0.90       159\n",
      "           1       0.92      0.91      0.92       199\n",
      "\n",
      "    accuracy                           0.91       358\n",
      "   macro avg       0.91      0.91      0.91       358\n",
      "weighted avg       0.91      0.91      0.91       358\n",
      "\n"
     ]
    },
    {
     "data": {
      "image/png": "[encoded data removed]",
      "text/plain": [
       "<Figure size 432x432 with 2 Axes>"
      ]
     },
     "metadata": {
      "needs_background": "light"
     },
     "output_type": "display_data"
    }
   ],
   "source": [
    "import seaborn as sns\n",
    "import sklearn\n",
    "from sklearn.metrics import classification_report, confusion_matrix\n",
    "from sklearn.metrics import precision_score,recall_score,f1_score\n",
    "\n",
    "cm = confusion_matrix(non_pred, y_pred)\n",
    "\n",
    "plt.figure(figsize=(6, 6))\n",
    "sns.heatmap(cm, annot=True, fmt='.0f', square=True, linewidths=.5, cmap='Greens_r')\n",
    "plt.ylabel('Actual Label')\n",
    "plt.xlabel('Predicted Label')\n",
    "plt.savefig('lidc-confusion.png')\n",
    "sensitivity1 = cm[0,0]/(cm[0,0]+cm[0,1])\n",
    "print('Sensitivity : ', sensitivity1 )\n",
    "specificity1 = cm[1,1]/(cm[1,0]+cm[1,1])\n",
    "print('Specificity : ', specificity1)\n",
    "\n",
    "\n",
    "print(sklearn.metrics.classification_report(non_pred, y_pred))"
   ]
  },
  {
   "cell_type": "code",
   "execution_count": 61,
   "id": "8c01d3e2",
   "metadata": {},
   "outputs": [],
   "source": [
    "train_acc = model_fit.history['accuracy']\n",
    "val_acc = model_fit.history['val_accuracy']\n",
    "train_loss = model_fit.history['loss']\n",
    "val_loss = model_fit.history['val_loss']"
   ]
  },
  {
   "cell_type": "code",
   "execution_count": 62,
   "id": "b54b6839",
   "metadata": {},
   "outputs": [
    {
     "data": {
      "image/png": "[encoded data removed]",
      "text/plain": [
       "<Figure size 432x288 with 1 Axes>"
      ]
     },
     "metadata": {
      "needs_background": "light"
     },
     "output_type": "display_data"
    },
    {
     "data": {
      "text/plain": [
       "<Figure size 432x288 with 0 Axes>"
      ]
     },
     "metadata": {},
     "output_type": "display_data"
    },
    {
     "data": {
      "image/png": "[encoded data removed]",
      "text/plain": [
       "<Figure size 432x288 with 1 Axes>"
      ]
     },
     "metadata": {
      "needs_background": "light"
     },
     "output_type": "display_data"
    },
    {
     "data": {
      "text/plain": [
       "<Figure size 432x288 with 0 Axes>"
      ]
     },
     "metadata": {},
     "output_type": "display_data"
    }
   ],
   "source": [
    "epochs = range(len(train_acc)) \n",
    "plt.plot(epochs, train_acc, 'b', label='Training Accuracy')\n",
    "plt.plot(epochs, val_acc, 'r', label='Validation Accuracy')\n",
    "plt.title('Training and Validation Accuracy')\n",
    "plt.legend()\n",
    "plt.figure()\n",
    "plt.show()\n",
    "plt.savefig('lidc-accuracy-curve.png')\n",
    "\n",
    "plt.plot(epochs, train_loss, 'b', label='Training Loss')\n",
    "plt.plot(epochs, val_loss, 'r', label='Validation Loss')\n",
    "plt.title('Training and Validation Loss')\n",
    "plt.legend()\n",
    "plt.show()\n",
    "plt.savefig('lidc-loss-curve.png')\n"
   ]
  },
  {
   "cell_type": "code",
   "execution_count": 26,
   "id": "f5483a33",
   "metadata": {},
   "outputs": [
    {
     "data": {
      "image/png": "[encoded data removed]",
      "text/plain": [
       "<Figure size 432x288 with 1 Axes>"
      ]
     },
     "metadata": {
      "needs_background": "light"
     },
     "output_type": "display_data"
    },
    {
     "data": {
      "text/plain": [
       "<Figure size 432x288 with 0 Axes>"
      ]
     },
     "metadata": {},
     "output_type": "display_data"
    }
   ],
   "source": [
    "import pandas as pd\n",
    "import numpy as np\n",
    "from sklearn.model_selection import train_test_split\n",
    "from sklearn.linear_model import LogisticRegression\n",
    "from sklearn import metrics\n",
    "import matplotlib.pyplot as plt\n",
    "fpr, tpr, _ = metrics.roc_curve(non_pred, y_pred)\n",
    "auc = metrics.roc_auc_score(non_pred, y_pred)\n",
    "\n",
    "#create ROC curve\n",
    "plt.plot(fpr,tpr,label=\"AUC=\"+str(auc))\n",
    "plt.ylabel('True Positive Rate')\n",
    "plt.xlabel('False Positive Rate')\n",
    "plt.legend(loc=4)\n",
    "plt.show()\n",
    "plt.savefig('auc.png')\n"
   ]
  },
  {
   "cell_type": "code",
   "execution_count": null,
   "id": "aad3e1d9",
   "metadata": {},
   "outputs": [],
   "source": []
  }
 ],
 "metadata": {
  "kernelspec": {
   "display_name": "Python 3",
   "language": "python",
   "name": "python3"
  },
  "language_info": {
   "codemirror_mode": {
    "name": "ipython",
    "version": 3
   },
   "file_extension": ".py",
   "mimetype": "text/x-python",
   "name": "python",
   "nbconvert_exporter": "python",
   "pygments_lexer": "ipython3",
   "version": "3.8.8"
  }
 },
 "nbformat": 4,
 "nbformat_minor": 5
}
